!pip3 install pyspark --force-reinstall


from pyspark.sql import SparkSession


import pandas as pd


import pyspark


!poetry run pip install pyspark



