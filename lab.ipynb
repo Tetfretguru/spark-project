{
 "cells": [
  {
   "cell_type": "code",
   "execution_count": 19,
   "id": "30024113-3956-422b-a19b-3f26a446e8e7",
   "metadata": {},
   "outputs": [],
   "source": [
    "import pandas as pd"
   ]
  },
  {
   "cell_type": "code",
   "execution_count": 50,
   "id": "e48c3504-4156-423e-9e90-899a85f9b972",
   "metadata": {},
   "outputs": [],
   "source": [
    "df = pd.read_csv(\"archive/world_population_by_year_1950_2023.csv\")"
   ]
  },
  {
   "cell_type": "code",
   "execution_count": 65,
   "id": "a2c46425-5a4d-4e30-b834-8426c55359b7",
   "metadata": {},
   "outputs": [
    {
     "data": {
      "text/plain": [
       "[{'country': 'Afghanistan',\n",
       "  '2019': 37769499,\n",
       "  '2020': 38972230,\n",
       "  '2021': 40099462,\n",
       "  '2022': 41128771,\n",
       "  '2023': 42239854},\n",
       " {'country': 'Albania',\n",
       "  '2019': 2873883,\n",
       "  '2020': 2866849,\n",
       "  '2021': 2854710,\n",
       "  '2022': 2842321,\n",
       "  '2023': 2832439},\n",
       " {'country': 'Algeria',\n",
       "  '2019': 42705368,\n",
       "  '2020': 43451666,\n",
       "  '2021': 44177969,\n",
       "  '2022': 44903225,\n",
       "  '2023': 45606480},\n",
       " {'country': 'American Samoa',\n",
       "  '2019': 47321,\n",
       "  '2020': 46189,\n",
       "  '2021': 45035,\n",
       "  '2022': 44273,\n",
       "  '2023': 43914},\n",
       " {'country': 'Andorra',\n",
       "  '2019': 76343,\n",
       "  '2020': 77700,\n",
       "  '2021': 79034,\n",
       "  '2022': 79824,\n",
       "  '2023': 80088}]"
      ]
     },
     "execution_count": 65,
     "metadata": {},
     "output_type": "execute_result"
    }
   ],
   "source": [
    "df[[\"country\"] + [col for col in df.columns if col != \"country\" and int(col) >= 2019]].head().to_dict(\"records\")"
   ]
  },
  {
   "cell_type": "code",
   "execution_count": 66,
   "id": "14bb6464-3ff3-47a0-a0e5-375fe9fce90c",
   "metadata": {},
   "outputs": [
    {
     "data": {
      "text/html": [
       "<div>\n",
       "<style scoped>\n",
       "    .dataframe tbody tr th:only-of-type {\n",
       "        vertical-align: middle;\n",
       "    }\n",
       "\n",
       "    .dataframe tbody tr th {\n",
       "        vertical-align: top;\n",
       "    }\n",
       "\n",
       "    .dataframe thead th {\n",
       "        text-align: right;\n",
       "    }\n",
       "</style>\n",
       "<table border=\"1\" class=\"dataframe\">\n",
       "  <thead>\n",
       "    <tr style=\"text-align: right;\">\n",
       "      <th></th>\n",
       "      <th>country</th>\n",
       "      <th>1950</th>\n",
       "      <th>1951</th>\n",
       "      <th>1952</th>\n",
       "      <th>1953</th>\n",
       "      <th>1954</th>\n",
       "      <th>1955</th>\n",
       "      <th>1956</th>\n",
       "      <th>1957</th>\n",
       "      <th>1958</th>\n",
       "      <th>...</th>\n",
       "      <th>2014</th>\n",
       "      <th>2015</th>\n",
       "      <th>2016</th>\n",
       "      <th>2017</th>\n",
       "      <th>2018</th>\n",
       "      <th>2019</th>\n",
       "      <th>2020</th>\n",
       "      <th>2021</th>\n",
       "      <th>2022</th>\n",
       "      <th>2023</th>\n",
       "    </tr>\n",
       "  </thead>\n",
       "  <tbody>\n",
       "    <tr>\n",
       "      <th>224</th>\n",
       "      <td>Uruguay</td>\n",
       "      <td>2234144</td>\n",
       "      <td>2256072</td>\n",
       "      <td>2280660</td>\n",
       "      <td>2307491</td>\n",
       "      <td>2336182</td>\n",
       "      <td>2366209</td>\n",
       "      <td>2397436</td>\n",
       "      <td>2429787</td>\n",
       "      <td>2462876</td>\n",
       "      <td>...</td>\n",
       "      <td>3391662</td>\n",
       "      <td>3402818</td>\n",
       "      <td>3413766</td>\n",
       "      <td>3422200</td>\n",
       "      <td>3427042</td>\n",
       "      <td>3428409</td>\n",
       "      <td>3429086</td>\n",
       "      <td>3426260</td>\n",
       "      <td>3422794</td>\n",
       "      <td>3423108</td>\n",
       "    </tr>\n",
       "  </tbody>\n",
       "</table>\n",
       "<p>1 rows × 75 columns</p>\n",
       "</div>"
      ],
      "text/plain": [
       "     country     1950     1951     1952     1953     1954     1955     1956  \\\n",
       "224  Uruguay  2234144  2256072  2280660  2307491  2336182  2366209  2397436   \n",
       "\n",
       "        1957     1958  ...     2014     2015     2016     2017     2018  \\\n",
       "224  2429787  2462876  ...  3391662  3402818  3413766  3422200  3427042   \n",
       "\n",
       "        2019     2020     2021     2022     2023  \n",
       "224  3428409  3429086  3426260  3422794  3423108  \n",
       "\n",
       "[1 rows x 75 columns]"
      ]
     },
     "execution_count": 66,
     "metadata": {},
     "output_type": "execute_result"
    }
   ],
   "source": [
    "sample = df.query(\"country == 'Uruguay'\")\n",
    "sample"
   ]
  },
  {
   "cell_type": "code",
   "execution_count": 78,
   "id": "a6aa4498-3125-4052-af8c-50ed18b54121",
   "metadata": {},
   "outputs": [
    {
     "data": {
      "text/html": [
       "<div>\n",
       "<style scoped>\n",
       "    .dataframe tbody tr th:only-of-type {\n",
       "        vertical-align: middle;\n",
       "    }\n",
       "\n",
       "    .dataframe tbody tr th {\n",
       "        vertical-align: top;\n",
       "    }\n",
       "\n",
       "    .dataframe thead th {\n",
       "        text-align: right;\n",
       "    }\n",
       "</style>\n",
       "<table border=\"1\" class=\"dataframe\">\n",
       "  <thead>\n",
       "    <tr style=\"text-align: right;\">\n",
       "      <th></th>\n",
       "      <th>country</th>\n",
       "      <th>year</th>\n",
       "      <th>population</th>\n",
       "      <th>population_growth</th>\n",
       "    </tr>\n",
       "  </thead>\n",
       "  <tbody>\n",
       "    <tr>\n",
       "      <th>0</th>\n",
       "      <td>Afghanistan</td>\n",
       "      <td>1950</td>\n",
       "      <td>7480461</td>\n",
       "      <td>NaN</td>\n",
       "    </tr>\n",
       "    <tr>\n",
       "      <th>1</th>\n",
       "      <td>Albania</td>\n",
       "      <td>1950</td>\n",
       "      <td>1252582</td>\n",
       "      <td>NaN</td>\n",
       "    </tr>\n",
       "    <tr>\n",
       "      <th>2</th>\n",
       "      <td>Algeria</td>\n",
       "      <td>1950</td>\n",
       "      <td>9019866</td>\n",
       "      <td>NaN</td>\n",
       "    </tr>\n",
       "    <tr>\n",
       "      <th>3</th>\n",
       "      <td>American Samoa</td>\n",
       "      <td>1950</td>\n",
       "      <td>19032</td>\n",
       "      <td>NaN</td>\n",
       "    </tr>\n",
       "    <tr>\n",
       "      <th>4</th>\n",
       "      <td>Andorra</td>\n",
       "      <td>1950</td>\n",
       "      <td>6005</td>\n",
       "      <td>NaN</td>\n",
       "    </tr>\n",
       "    <tr>\n",
       "      <th>...</th>\n",
       "      <td>...</td>\n",
       "      <td>...</td>\n",
       "      <td>...</td>\n",
       "      <td>...</td>\n",
       "    </tr>\n",
       "    <tr>\n",
       "      <th>17311</th>\n",
       "      <td>Wallis &amp; Futuna</td>\n",
       "      <td>2023</td>\n",
       "      <td>11502</td>\n",
       "      <td>-70.0</td>\n",
       "    </tr>\n",
       "    <tr>\n",
       "      <th>17312</th>\n",
       "      <td>Western Sahara</td>\n",
       "      <td>2023</td>\n",
       "      <td>587259</td>\n",
       "      <td>11273.0</td>\n",
       "    </tr>\n",
       "    <tr>\n",
       "      <th>17313</th>\n",
       "      <td>Yemen</td>\n",
       "      <td>2023</td>\n",
       "      <td>34449825</td>\n",
       "      <td>753211.0</td>\n",
       "    </tr>\n",
       "    <tr>\n",
       "      <th>17314</th>\n",
       "      <td>Zambia</td>\n",
       "      <td>2023</td>\n",
       "      <td>20569737</td>\n",
       "      <td>552062.0</td>\n",
       "    </tr>\n",
       "    <tr>\n",
       "      <th>17315</th>\n",
       "      <td>Zimbabwe</td>\n",
       "      <td>2023</td>\n",
       "      <td>16665409</td>\n",
       "      <td>344872.0</td>\n",
       "    </tr>\n",
       "  </tbody>\n",
       "</table>\n",
       "<p>17316 rows × 4 columns</p>\n",
       "</div>"
      ],
      "text/plain": [
       "               country  year  population  population_growth\n",
       "0          Afghanistan  1950     7480461                NaN\n",
       "1              Albania  1950     1252582                NaN\n",
       "2              Algeria  1950     9019866                NaN\n",
       "3       American Samoa  1950       19032                NaN\n",
       "4              Andorra  1950        6005                NaN\n",
       "...                ...   ...         ...                ...\n",
       "17311  Wallis & Futuna  2023       11502              -70.0\n",
       "17312   Western Sahara  2023      587259            11273.0\n",
       "17313            Yemen  2023    34449825           753211.0\n",
       "17314           Zambia  2023    20569737           552062.0\n",
       "17315         Zimbabwe  2023    16665409           344872.0\n",
       "\n",
       "[17316 rows x 4 columns]"
      ]
     },
     "execution_count": 78,
     "metadata": {},
     "output_type": "execute_result"
    }
   ],
   "source": [
    "melted_df = df.melt(id_vars=['country'], var_name='year', value_name='population')\n",
    "melted_df['population_growth'] = melted_df.groupby(\"country\")[\"population\"].diff()\n",
    "melted_df"
   ]
  },
  {
   "cell_type": "code",
   "execution_count": 80,
   "id": "e7914129-f842-44b9-9694-a41a64d0a149",
   "metadata": {},
   "outputs": [
    {
     "data": {
      "text/plain": [
       "\"stack(74, '1950', 1950, '1951', 1951, '1952', 1952, '1953', 1953, '1954', 1954, '1955', 1955, '1956', 1956, '1957', 1957, '1958', 1958, '1959', 1959, '1960', 1960, '1961', 1961, '1962', 1962, '1963', 1963, '1964', 1964, '1965', 1965, '1966', 1966, '1967', 1967, '1968', 1968, '1969', 1969, '1970', 1970, '1971', 1971, '1972', 1972, '1973', 1973, '1974', 1974, '1975', 1975, '1976', 1976, '1977', 1977, '1978', 1978, '1979', 1979, '1980', 1980, '1981', 1981, '1982', 1982, '1983', 1983, '1984', 1984, '1985', 1985, '1986', 1986, '1987', 1987, '1988', 1988, '1989', 1989, '1990', 1990, '1991', 1991, '1992', 1992, '1993', 1993, '1994', 1994, '1995', 1995, '1996', 1996, '1997', 1997, '1998', 1998, '1999', 1999, '2000', 2000, '2001', 2001, '2002', 2002, '2003', 2003, '2004', 2004, '2005', 2005, '2006', 2006, '2007', 2007, '2008', 2008, '2009', 2009, '2010', 2010, '2011', 2011, '2012', 2012, '2013', 2013, '2014', 2014, '2015', 2015, '2016', 2016, '2017', 2017, '2018', 2018, '2019', 2019, '2020', 2020, '2021', 2021, '2022', 2022, '2023', 2023) as (year, population)\""
      ]
     },
     "execution_count": 80,
     "metadata": {},
     "output_type": "execute_result"
    }
   ],
   "source": [
    "years = list(range(1950, 2024))\n",
    "year_stack = \", \".join(f\"'{year}', {year}\" for year in years)\n",
    "f\"stack({len(years)}, {year_stack}) as (year, population)\""
   ]
  },
  {
   "cell_type": "code",
   "execution_count": 86,
   "id": "636dd1e1-7a6a-4de1-927d-31f8b6411a8e",
   "metadata": {},
   "outputs": [
    {
     "name": "stdout",
     "output_type": "stream",
     "text": [
      "                country  year  population\n",
      "0           Afghanistan  1950     7480461\n",
      "1               Albania  1950     1252582\n",
      "2               Algeria  1950     9019866\n",
      "3        American Samoa  1950       19032\n",
      "4               Andorra  1950        6005\n",
      "5                Angola  1950     4478184\n",
      "6              Anguilla  1950        5017\n",
      "7   Antigua and Barbuda  1950       45435\n",
      "8             Argentina  1950    17017742\n",
      "9               Armenia  1950     1385041\n",
      "10                Aruba  1950       38797\n",
      "11            Australia  1950     8177167\n",
      "12              Austria  1950     6936440\n",
      "13           Azerbaijan  1950     3158966\n",
      "14              Bahamas  1950       81644\n",
      "15              Bahrain  1950      117149\n",
      "16           Bangladesh  1950    39728535\n",
      "17             Barbados  1950      210548\n",
      "18              Belarus  1950     7906860\n",
      "19              Belgium  1950     8617344\n"
     ]
    }
   ],
   "source": [
    "print(melted_df[[\"country\", \"year\", \"population\"]].head(20))"
   ]
  },
  {
   "cell_type": "code",
   "execution_count": null,
   "id": "1fe6a087-f7da-447f-abff-5f79b8eae9a3",
   "metadata": {},
   "outputs": [],
   "source": []
  }
 ],
 "metadata": {
  "kernelspec": {
   "display_name": "Python 3 (ipykernel)",
   "language": "python",
   "name": "python3"
  },
  "language_info": {
   "codemirror_mode": {
    "name": "ipython",
    "version": 3
   },
   "file_extension": ".py",
   "mimetype": "text/x-python",
   "name": "python",
   "nbconvert_exporter": "python",
   "pygments_lexer": "ipython3",
   "version": "3.11.8"
  }
 },
 "nbformat": 4,
 "nbformat_minor": 5
}
